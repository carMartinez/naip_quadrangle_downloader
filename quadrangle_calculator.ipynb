{
 "cells": [
  {
   "cell_type": "markdown",
   "metadata": {},
   "source": [
    "# TO DO\n",
    "\n",
    "3. Check other cities by downloading their data. Is there an online source?"
   ]
  },
  {
   "cell_type": "markdown",
   "metadata": {},
   "source": [
    "AWS NAIP:\n",
    "https://aws.amazon.com/public-datasets/naip/\n",
    "\n",
    "See naming specifications for NAIP here: \n",
    "https://lta.cr.usgs.gov/naip_full_res.html\n",
    "\n",
    "They are based on the 7.5 by 7.5 Minute USGS quadrangle: \n",
    "https://topomaps.usgs.gov/drg/drg_name.html#hdr%209"
   ]
  },
  {
   "cell_type": "code",
   "execution_count": 1,
   "metadata": {},
   "outputs": [],
   "source": [
    "from geopy.geocoders import Nominatim\n",
    "import numpy as np"
   ]
  },
  {
   "cell_type": "code",
   "execution_count": 2,
   "metadata": {},
   "outputs": [],
   "source": [
    "def get_quad_id(lat, lon):\n",
    "    \n",
    "    ## Assume 8x8 grid. \n",
    "    grid_size = 8\n",
    "    grid_step = 1 / grid_size \n",
    "    \n",
    "    ## Find index in 1-degree block (8x8 grid)\n",
    "    ## NOTE: Quad are 1-indexed\n",
    "    lon_degrees = lon - int(lon)\n",
    "    lat_degrees = lat - int(lat)\n",
    "    col_ndx = (grid_size - 1) + int(lon_degrees / grid_step)\n",
    "    row_ndx = (grid_size - 1) - int(lat_degrees / grid_step)\n",
    "    ndx = 1 + np.ravel_multi_index((row_ndx , col_ndx), (grid_size, grid_size))\n",
    "    \n",
    "    ## Find quadrant (nw, ne, sw, se)\n",
    "    lon_upper = int(lon) - grid_step * (grid_size - col_ndx - 1)\n",
    "    lon_lower = int(lon) - grid_step * (grid_size - col_ndx)\n",
    "    lat_upper = int(lat) + grid_step * (grid_size - row_ndx)\n",
    "    lat_lower = int(lat) + grid_step * (grid_size - row_ndx - 1)\n",
    "    lon_mid = (lon_upper + lon_lower) / 2\n",
    "    lat_mid = (lat_upper + lat_lower) / 2\n",
    "    if lat > lat_mid:\n",
    "        quadrant = 'n'\n",
    "    else:\n",
    "        quadrant = 's'\n",
    "        \n",
    "    if lon > lon_mid:\n",
    "        quadrant = quadrant + 'e'\n",
    "    else:\n",
    "        quadrant = quadrant + 'w'\n",
    "    \n",
    "    ## Format output string\n",
    "    lat_str = str(int(lat))\n",
    "    if abs(lon) < 100:\n",
    "        lon_str = '0' + str(abs(int(lon)))\n",
    "    else:\n",
    "        lon_str = str(abs(int(lon)))\n",
    "    \n",
    "    return lat_str + lon_str + str(ndx) + '_' + quadrant"
   ]
  },
  {
   "cell_type": "code",
   "execution_count": 3,
   "metadata": {},
   "outputs": [],
   "source": [
    "places = [\n",
    "    'Arizona State University AZ',\n",
    "    'Northern Arizona University AZ',\n",
    "    'University of Arizona AZ',\n",
    "    'Georgia Tech GA',\n",
    "    'New York University NY',\n",
    "    'Empire State Building NY',\n",
    "    'Brooklyn Botanic Garden NY',\n",
    "    'Calvary Cemetery NY'\n",
    "]"
   ]
  },
  {
   "cell_type": "code",
   "execution_count": 4,
   "metadata": {},
   "outputs": [
    {
     "name": "stdout",
     "output_type": "stream",
     "text": [
      "Arizona State University AZ\n",
      "33.42165145 -111.932582859275\n",
      "3311133_se\n",
      "\n",
      "Northern Arizona University AZ\n",
      "35.1851087 -111.655837039036\n",
      "3511151_se\n",
      "\n",
      "University of Arizona AZ\n",
      "33.45205165 -112.063678942176\n",
      "3311240_nw\n",
      "\n",
      "Georgia Tech GA\n",
      "33.776033 -84.3988408600158\n",
      "3308413_se\n",
      "\n",
      "New York University NY\n",
      "40.7292641 -73.9962682727708\n",
      "4007317_nw\n",
      "\n",
      "Empire State Building NY\n",
      "40.7484284 -73.9856546198733\n",
      "4007317_nw\n",
      "\n",
      "Brooklyn Botanic Garden NY\n",
      "40.66760805 -73.9636076711714\n",
      "4007317_sw\n",
      "\n",
      "Calvary Cemetery NY\n",
      "40.73296815 -73.9308954670053\n",
      "4007317_ne\n",
      "\n"
     ]
    }
   ],
   "source": [
    "for place in places:\n",
    "    geolocator = Nominatim()\n",
    "    loc = geolocator.geocode(place)\n",
    "    lat, lon = loc.latitude, loc.longitude\n",
    "    quad_id = get_quad_id(lat, lon)\n",
    "    \n",
    "    print(place)\n",
    "    print(lat, lon)\n",
    "    print(quad_id)\n",
    "    print()"
   ]
  },
  {
   "cell_type": "code",
   "execution_count": null,
   "metadata": {},
   "outputs": [],
   "source": []
  },
  {
   "cell_type": "markdown",
   "metadata": {},
   "source": [
    "Download the NAIP manifest from AWS and grep through the listed files for the quadrangle ID.\n",
    "\n",
    "```shell\n",
    "aws s3api get-object --bucket aws-naip --key manifest.txt --request-payer requester manifest.txt\n",
    "grep \"4007317\" manifest.txt\n",
    "```\n",
    "\n",
    "returns a list with all files corresponding to that ID\n",
    "\n",
    "```\n",
    "ny/2013/1m/fgdc/40073/m_4007317_ne_18_1_20130622.txt\n",
    "ny/2013/1m/fgdc/40073/m_4007317_nw_18_1_20130622.txt\n",
    "ny/2013/1m/fgdc/40073/m_4007317_se_18_1_20130622.txt\n",
    "ny/2013/1m/fgdc/40073/m_4007317_sw_18_1_20130622.txt\n",
    "ny/2013/1m/rgb/40073/m_4007317_ne_18_1_20130622.tif\n",
    "ny/2013/1m/rgb/40073/m_4007317_nw_18_1_20130622.tif\n",
    "ny/2013/1m/rgb/40073/m_4007317_se_18_1_20130622.tif\n",
    "ny/2013/1m/rgb/40073/m_4007317_sw_18_1_20130622.tif\n",
    "ny/2013/1m/rgbir/40073/m_4007317_ne_18_1_20130622.tif\n",
    "ny/2013/1m/rgbir/40073/m_4007317_nw_18_1_20130622.tif\n",
    "ny/2013/1m/rgbir/40073/m_4007317_se_18_1_20130622.tif\n",
    "ny/2013/1m/rgbir/40073/m_4007317_sw_18_1_20130622.tif\n",
    "ny/2015/.5m/fgdc/40073/m_4007317_ne_18_h_20150522.txt\n",
    "ny/2015/.5m/fgdc/40073/m_4007317_nw_18_h_20150522.txt\n",
    "ny/2015/.5m/fgdc/40073/m_4007317_se_18_h_20150522.txt\n",
    "ny/2015/.5m/fgdc/40073/m_4007317_sw_18_h_20150522.txt\n",
    "ny/2015/.5m/rgb/40073/m_4007317_ne_18_h_20150522.tif\n",
    "ny/2015/.5m/rgb/40073/m_4007317_nw_18_h_20150522.tif\n",
    "ny/2015/.5m/rgb/40073/m_4007317_se_18_h_20150522.tif\n",
    "ny/2015/.5m/rgb/40073/m_4007317_sw_18_h_20150522.tif\n",
    "ny/2015/.5m/rgbir/40073/m_4007317_ne_18_h_20150522.tif\n",
    "ny/2015/.5m/rgbir/40073/m_4007317_nw_18_h_20150522.tif\n",
    "ny/2015/.5m/rgbir/40073/m_4007317_se_18_h_20150522.tif\n",
    "ny/2015/.5m/rgbir/40073/m_4007317_sw_18_h_20150522.tif\n",
    "```\n",
    "\n",
    "Files can then be downloaded\n",
    "\n",
    "```shell\n",
    "aws s3api get-object --bucket aws-naip --key ny/2013/1m/rgb/40073/m_4007317_ne_18_1_20130622.tif --request-payer requester m_4007317_ne_18_1_20130622.tif\n",
    "\n",
    "aws s3api get-object --bucket aws-naip --key ny/2013/1m/rgb/40073/m_4007317_sw_18_1_20130622.tif --request-payer requester m_4007317_sw_18_1_20130622.tif\n",
    "```"
   ]
  },
  {
   "cell_type": "code",
   "execution_count": null,
   "metadata": {},
   "outputs": [],
   "source": []
  },
  {
   "cell_type": "code",
   "execution_count": 18,
   "metadata": {},
   "outputs": [
    {
     "name": "stdout",
     "output_type": "stream",
     "text": [
      "Lon: -74.0 -73.875\n",
      "Lat: 40.625 40.75\n",
      "nw\n"
     ]
    }
   ],
   "source": [
    "lat = 40.7484284\n",
    "lon = -73.9856546198733\n",
    "\n",
    "lon_degrees = lon - int(lon)\n",
    "lat_degrees = lat - int(lat)\n",
    "col_ndx = 7 + int(lon_degrees / 0.125)\n",
    "row_ndx = 7 - int(lat_degrees / 0.125)\n",
    "\n",
    "lon_upper = int(lon) - .125*(7-col_ndx)\n",
    "lon_lower = int(lon) - .125*(7-col_ndx+1)\n",
    "lat_upper = int(lat) + .125*(7-row_ndx+1)\n",
    "lat_lower = int(lat) + .125*(7-row_ndx)\n",
    "\n",
    "lon_mid = (lon_upper + lon_lower) / 2\n",
    "lat_mid = (lat_upper + lat_lower) / 2\n",
    "\n",
    "if lat > lat_mid:\n",
    "    quadrant = 'n'\n",
    "else:\n",
    "    quadrant = 's'\n",
    "    \n",
    "if lon > lon_mid:\n",
    "    quadrant = quadrant + 'e'\n",
    "else:\n",
    "    quadrant = quadrant + 'w'\n",
    "\n",
    "print('Lon: {} {}'.format(lon_lower, lon_upper))\n",
    "print('Lat: {} {}'.format(lat_lower, lat_upper))\n",
    "print(quadrant)\n"
   ]
  },
  {
   "cell_type": "code",
   "execution_count": null,
   "metadata": {},
   "outputs": [],
   "source": [
    "\n",
    "    "
   ]
  },
  {
   "cell_type": "code",
   "execution_count": null,
   "metadata": {},
   "outputs": [],
   "source": []
  }
 ],
 "metadata": {
  "kernelspec": {
   "display_name": "Python [conda env:geo]",
   "language": "python",
   "name": "conda-env-geo-py"
  },
  "language_info": {
   "codemirror_mode": {
    "name": "ipython",
    "version": 3
   },
   "file_extension": ".py",
   "mimetype": "text/x-python",
   "name": "python",
   "nbconvert_exporter": "python",
   "pygments_lexer": "ipython3",
   "version": "3.6.4"
  }
 },
 "nbformat": 4,
 "nbformat_minor": 2
}
